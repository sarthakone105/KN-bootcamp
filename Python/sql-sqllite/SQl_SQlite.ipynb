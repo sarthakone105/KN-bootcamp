{
 "cells": [
  {
   "cell_type": "code",
   "execution_count": 15,
   "metadata": {},
   "outputs": [],
   "source": [
    "import sqlite3"
   ]
  },
  {
   "cell_type": "code",
   "execution_count": 16,
   "metadata": {},
   "outputs": [
    {
     "data": {
      "text/plain": [
       "<sqlite3.Connection at 0x700104fcf640>"
      ]
     },
     "execution_count": 16,
     "metadata": {},
     "output_type": "execute_result"
    }
   ],
   "source": [
    "## Connect SQLite 3 data base\n",
    "conecttion = sqlite3.connect('example.db')\n",
    "conecttion"
   ]
  },
  {
   "cell_type": "code",
   "execution_count": 17,
   "metadata": {},
   "outputs": [],
   "source": [
    "# create a cursor \n",
    "cursor = conecttion.cursor()"
   ]
  },
  {
   "cell_type": "code",
   "execution_count": 18,
   "metadata": {},
   "outputs": [],
   "source": [
    "cursor.execute('''\n",
    "CREATE TABLE IF NOT EXISTS employees(\n",
    "    id INT PRIMARY KEY,\n",
    "    name TEXT NOT NULL,\n",
    "    age INT,\n",
    "    department text)''')\n",
    "\n",
    "## Commit the changes\n",
    "conecttion.commit()"
   ]
  },
  {
   "cell_type": "code",
   "execution_count": 19,
   "metadata": {},
   "outputs": [
    {
     "data": {
      "text/plain": [
       "<sqlite3.Cursor at 0x700104f83740>"
      ]
     },
     "execution_count": 19,
     "metadata": {},
     "output_type": "execute_result"
    }
   ],
   "source": [
    "cursor.execute('''\n",
    "SELECt * FROM employees''')\n"
   ]
  },
  {
   "cell_type": "code",
   "execution_count": 21,
   "metadata": {},
   "outputs": [],
   "source": [
    "### Insert the data into employees data\n",
    "\n",
    "cursor.execute(\n",
    "    '''\n",
    "    INSERT INTO employees(id, name, age,department)\n",
    "     VALUES(1, \"Sarthak\", 29, \"Senior Analyst\")\n",
    "    '''\n",
    ")\n",
    "\n",
    "cursor.execute(\n",
    "    '''\n",
    "    INSERT INTO employees(id, name,age,department)\n",
    "     VALUES(2, \"Sar\", 2, \"Analyst\")\n",
    "    '''\n",
    ")\n",
    "\n",
    "cursor.execute(\n",
    "    '''\n",
    "    INSERT INTO employees(id, name,age,department)\n",
    "     VALUES(3, \"thak\", 9, \"Junior Analyst\")\n",
    "    '''\n",
    ")\n",
    "\n",
    "# Commit the code\n",
    "\n",
    "conecttion.commit()"
   ]
  },
  {
   "cell_type": "code",
   "execution_count": 22,
   "metadata": {},
   "outputs": [
    {
     "name": "stdout",
     "output_type": "stream",
     "text": [
      "[(1, 'Sarthak', 29, 'Senior Analyst'), (2, 'Sar', 2, 'Analyst'), (3, 'thak', 9, 'Junior Analyst')]\n"
     ]
    }
   ],
   "source": [
    "# Querying the db table\n",
    "cursor.execute(\n",
    "    '''\n",
    "    SELECT * FROM employees\n",
    "    '''\n",
    ")\n",
    "\n",
    "row = cursor.fetchall()\n",
    "\n",
    "print(row)"
   ]
  },
  {
   "cell_type": "code",
   "execution_count": 25,
   "metadata": {},
   "outputs": [],
   "source": [
    "# Update the table\n",
    "cursor.execute(\n",
    "    '''\n",
    "    UPDATE employees\n",
    "    SET age=30\n",
    "    WHERE name='Sarthak' \n",
    "    '''\n",
    ")\n",
    "conecttion.commit()"
   ]
  },
  {
   "cell_type": "code",
   "execution_count": 26,
   "metadata": {},
   "outputs": [
    {
     "name": "stdout",
     "output_type": "stream",
     "text": [
      "[(1, 'Sarthak', 30, 'Senior Analyst'), (2, 'Sar', 2, 'Analyst'), (3, 'thak', 9, 'Junior Analyst')]\n"
     ]
    }
   ],
   "source": [
    "# Querying the db table\n",
    "cursor.execute(\n",
    "    '''\n",
    "    SELECT * FROM employees\n",
    "    '''\n",
    ")\n",
    "\n",
    "row = cursor.fetchall()\n",
    "\n",
    "print(row)"
   ]
  },
  {
   "cell_type": "code",
   "execution_count": 29,
   "metadata": {},
   "outputs": [],
   "source": [
    "### DELETE data from table\n",
    "\n",
    "cursor.execute(\n",
    "    '''\n",
    "    DELETE FROM employees\n",
    "    WHERE name=\"Sar\"\n",
    "    '''\n",
    ")\n",
    "\n",
    "conecttion.commit()"
   ]
  },
  {
   "cell_type": "code",
   "execution_count": 30,
   "metadata": {},
   "outputs": [
    {
     "name": "stdout",
     "output_type": "stream",
     "text": [
      "[(1, 'Sarthak', 30, 'Senior Analyst'), (3, 'thak', 9, 'Junior Analyst')]\n"
     ]
    }
   ],
   "source": [
    "# Querying the db table\n",
    "cursor.execute(\n",
    "    '''\n",
    "    SELECT * FROM employees\n",
    "    '''\n",
    ")\n",
    "\n",
    "row = cursor.fetchall()\n",
    "\n",
    "print(row)"
   ]
  },
  {
   "cell_type": "markdown",
   "metadata": {},
   "source": [
    "#### Project fetch data from csv and put it in data base"
   ]
  },
  {
   "cell_type": "code",
   "execution_count": 32,
   "metadata": {},
   "outputs": [
    {
     "data": {
      "text/plain": [
       "<sqlite3.Connection at 0x70010469a540>"
      ]
     },
     "execution_count": 32,
     "metadata": {},
     "output_type": "execute_result"
    }
   ],
   "source": [
    "sales = sqlite3.connect('Sales.db')\n",
    "sales"
   ]
  },
  {
   "cell_type": "code",
   "execution_count": 33,
   "metadata": {},
   "outputs": [],
   "source": [
    "cursor = sales.cursor()"
   ]
  },
  {
   "cell_type": "code",
   "execution_count": 34,
   "metadata": {},
   "outputs": [],
   "source": [
    "cursor.execute('''\n",
    "CREATE TABLE IF NOT EXISTS sales(\n",
    "    id INT PRIMARY KEY,\n",
    "    date TEXT NOT NULL,\n",
    "    product_name TEXT,\n",
    "    price INT,\n",
    "    region TEXT)''')\n",
    "\n",
    "## Commit the changes\n",
    "conecttion.commit()"
   ]
  },
  {
   "cell_type": "code",
   "execution_count": 35,
   "metadata": {},
   "outputs": [],
   "source": [
    "SALES_DATA = [(1,'2023-01-02', 'Product_1', 100, 'North'),\n",
    "              (2,'2023-01-03', 'Product_2', 200, 'East'),\n",
    "              (3,'2023-01-04', 'Product_3', 300, 'Wast'),\n",
    "              (4,'2023-01-05', 'Product_4', 400, 'South'),\n",
    "              (5,'2023-01-06', 'Product_5', 500, 'North-East')\n",
    "              ]\n",
    "\n",
    "cursor.executemany(\n",
    "    '''\n",
    "    INSERT INTO sales(id, date, product_name, price, region)\n",
    "    VALUES(?,?,?,?,?)\n",
    "    \n",
    "    ''', SALES_DATA\n",
    ")\n",
    "sales.commit()"
   ]
  },
  {
   "cell_type": "code",
   "execution_count": 36,
   "metadata": {},
   "outputs": [
    {
     "name": "stdout",
     "output_type": "stream",
     "text": [
      "[(1, '2023-01-02', 'Product_1', 100, 'North'), (2, '2023-01-03', 'Product_2', 200, 'East'), (3, '2023-01-04', 'Product_3', 300, 'Wast'), (4, '2023-01-05', 'Product_4', 400, 'South'), (5, '2023-01-06', 'Product_5', 500, 'North-East')]\n"
     ]
    }
   ],
   "source": [
    "cursor.execute(\n",
    "    '''\n",
    "    SELECT * FROM sales\n",
    "    '''\n",
    ")\n",
    "\n",
    "row = cursor.fetchall()\n",
    "\n",
    "print(row)"
   ]
  },
  {
   "cell_type": "code",
   "execution_count": 37,
   "metadata": {},
   "outputs": [],
   "source": [
    "# Close the connection\n",
    "sales.close()"
   ]
  }
 ],
 "metadata": {
  "kernelspec": {
   "display_name": "Python 3",
   "language": "python",
   "name": "python3"
  },
  "language_info": {
   "codemirror_mode": {
    "name": "ipython",
    "version": 3
   },
   "file_extension": ".py",
   "mimetype": "text/x-python",
   "name": "python",
   "nbconvert_exporter": "python",
   "pygments_lexer": "ipython3",
   "version": "3.10.12"
  }
 },
 "nbformat": 4,
 "nbformat_minor": 2
}
