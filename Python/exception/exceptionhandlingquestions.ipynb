{
 "cells": [
  {
   "cell_type": "markdown",
   "metadata": {},
   "source": [
    "### Assignment 10: Custom Exception Handling\n",
    "\n",
    "Define a custom exception named `NegativeNumberError`. Write a function that raises this exception if a negative number is encountered in a list. Use try, except, and finally blocks to handle the custom exception and print an appropriate message.\n",
    "\n"
   ]
  },
  {
   "cell_type": "markdown",
   "id": "7a600387",
   "metadata": {},
   "source": [
    "### Assignment 1: Handling Division by Zero\n",
    "\n",
    "Write a function that takes two integers as input and returns their division. Use try, except, and finally blocks to handle division by zero and print an appropriate message."
   ]
  },
  {
   "cell_type": "code",
   "execution_count": 1,
   "metadata": {},
   "outputs": [
    {
     "name": "stdout",
     "output_type": "stream",
     "text": [
      "Divisor should not be equal to 0\n"
     ]
    }
   ],
   "source": [
    "try:\n",
    "    num1 = int(input(\"Dividend: \"))\n",
    "    num2 = int(input(\"Divisor: \"))\n",
    "    result = num1/num2\n",
    "except ZeroDivisionError as excep:\n",
    "    print(\"Divisor should not be equal to 0\")\n",
    "except Exception as e:\n",
    "    print(e)\n",
    "    "
   ]
  },
  {
   "cell_type": "markdown",
   "id": "5e1e3c5a",
   "metadata": {},
   "source": [
    "### Assignment 2: File Reading with Exception Handling\n",
    "\n",
    "Write a function that reads the contents of a file named `data.txt`. Use try, except, and finally blocks to handle file not found errors and ensure the file is properly closed."
   ]
  },
  {
   "cell_type": "code",
   "execution_count": 8,
   "id": "f3db46c8",
   "metadata": {},
   "outputs": [
    {
     "name": "stdout",
     "output_type": "stream",
     "text": [
      "Error: [Errno 2] No such file or directory: 'example2.txt'\n",
      "None\n"
     ]
    }
   ],
   "source": [
    "# def read_file(file):\n",
    "#     f = None\n",
    "#     try:\n",
    "#         f = open(file, 'r')\n",
    "#         content = f.read()\n",
    "#         return content\n",
    "#     except FileNotFoundError:\n",
    "#         print(\"File not found\")\n",
    "#     except Exception as e:\n",
    "#         print(e)\n",
    "#     finally:\n",
    "#         if f is not None and not f.closed:\n",
    "#             f.close()\n",
    "#             print(\"file closed\")\n",
    "\n",
    "# # Usage\n",
    "# try: \n",
    "#     content = read_file('example2.txt')\n",
    "# except Exception as e:\n",
    "#     print(e)\n",
    "\n",
    "def read_file(filename):\n",
    "    try:\n",
    "        file = open(filename, 'r')\n",
    "        content = file.read()\n",
    "        return content\n",
    "    except FileNotFoundError as e:\n",
    "        print(f\"Error: {e}\")\n",
    "    finally:\n",
    "        try:\n",
    "            file.close()\n",
    "        except NameError:\n",
    "            pass\n",
    "print(read_file('example2.txt'))"
   ]
  },
  {
   "cell_type": "markdown",
   "metadata": {},
   "source": [
    "### Assignment 3: Handling Multiple Exceptions\n",
    "\n",
    "Write a function that takes a list of integers and returns their sum. Use try, except, and finally blocks to handle TypeError if a non-integer value is encountered and print an appropriate message."
   ]
  },
  {
   "cell_type": "code",
   "execution_count": 19,
   "id": "88366145",
   "metadata": {},
   "outputs": [
    {
     "name": "stdout",
     "output_type": "stream",
     "text": [
      "It should be int\n"
     ]
    }
   ],
   "source": [
    "def listsum(numlist):\n",
    "    total = 0\n",
    "    try:\n",
    "        for num in numlist:\n",
    "            total += num\n",
    "    except TypeError as exep:\n",
    "        print(\"It should be int\")\n",
    "        total = None\n",
    "    except Exception as e:\n",
    "        print(e)\n",
    "    return total\n",
    "\n",
    "some = [1,2,3,5,4, 'g']\n",
    "listsum(some)"
   ]
  },
  {
   "cell_type": "markdown",
   "id": "0786e9b4",
   "metadata": {},
   "source": [
    "### Assignment 4: Exception Handling in User Input\n",
    "\n",
    "Write a function that prompts the user to enter an integer. Use try, except, and finally blocks to handle ValueError if the user enters a non-integer value and print an appropriate message."
   ]
  },
  {
   "cell_type": "code",
   "execution_count": 24,
   "id": "b6a43035",
   "metadata": {},
   "outputs": [
    {
     "name": "stdout",
     "output_type": "stream",
     "text": [
      "Its a value error:  invalid literal for int() with base 10: 'g'\n",
      "Task completed\n"
     ]
    }
   ],
   "source": [
    "def prompt():\n",
    "    try:\n",
    "        integer = int(input(\"Please enter a integer: \"))\n",
    "    except TypeError as exep:\n",
    "        print(\"It should be an integer\")\n",
    "        integer = None\n",
    "    except ValueError as exep1:\n",
    "        print('Its a value error: ', exep1)\n",
    "        integer = None\n",
    "    except Exception as e:\n",
    "        print(e)\n",
    "        integer = None\n",
    "    finally:\n",
    "        print(\"Task completed\")\n",
    "    return integer\n",
    "prompt()"
   ]
  },
  {
   "cell_type": "markdown",
   "id": "7ab29926",
   "metadata": {},
   "source": [
    "### Assignment 5: Exception Handling in Dictionary Access\n",
    "\n",
    "Write a function that takes a dictionary and a key as input and returns the value associated with the key. Use try, except, and finally blocks to handle KeyError if the key is not found in the dictionary and print an appropriate message."
   ]
  },
  {
   "cell_type": "code",
   "execution_count": 27,
   "id": "1d51dafd",
   "metadata": {},
   "outputs": [
    {
     "name": "stdout",
     "output_type": "stream",
     "text": [
      "Key x not found in the {'a': 1, 'b': 2, 'c': 3}\n",
      "execution done\n",
      "None\n"
     ]
    }
   ],
   "source": [
    "def value_check(dictionary, key):\n",
    "    try:\n",
    "        value = dictionary[key]\n",
    "    except KeyError as excep:\n",
    "        print(f\"Key {key} not found in the {dictionary}\")\n",
    "        value = None\n",
    "    except Exception as e:\n",
    "        print(e)\n",
    "        value = None\n",
    "    finally:\n",
    "        print(\"execution done\")\n",
    "        \n",
    "    return value\n",
    "    \n",
    "    # Test\n",
    "d = {'a': 1, 'b': 2, 'c': 3}\n",
    "# print(value_check(d, 'b'))  # 2\n",
    "print(value_check(d, 'x'))  # None"
   ]
  },
  {
   "cell_type": "markdown",
   "id": "84792af4",
   "metadata": {},
   "source": [
    "### Assignment 6: Nested Exception Handling\n",
    "\n",
    "Write a function that performs nested exception handling. It should first attempt to convert a string to an integer, and then attempt to divide by that integer. Use nested try, except, and finally blocks to handle ValueError and ZeroDivisionError and print appropriate messages."
   ]
  },
  {
   "cell_type": "code",
   "execution_count": 9,
   "id": "f48ff058",
   "metadata": {},
   "outputs": [],
   "source": [
    "def nested_arg(x):\n",
    "    try:\n",
    "        number = int(x)\n",
    "    except ValueError as vale:\n",
    "        print(f\"Value error : {vale}\")\n",
    "        number = None\n",
    "    if number != None:\n",
    "        try:\n",
    "            division = number/number\n",
    "        except ZeroDivisionError as Ze:\n",
    "            print(f\"Do not divide by zero: {Ze}\")\n",
    "            division = None\n",
    "        return division\n",
    "    "
   ]
  },
  {
   "cell_type": "markdown",
   "id": "5915b552",
   "metadata": {},
   "source": [
    "### Assignment 7: Exception Handling in List Operations\n",
    "\n",
    "Write a function that takes a list and an index as input and returns the element at the given index. Use try, except, and finally blocks to handle IndexError if the index is out of range and print an appropriate message.\n"
   ]
  },
  {
   "cell_type": "code",
   "execution_count": 13,
   "id": "26af55ad",
   "metadata": {},
   "outputs": [],
   "source": [
    "def check_element(lis, inde):\n",
    "    try:\n",
    "        value = lis[inde]\n",
    "    except IndexError as inex:\n",
    "        print(f\"index not in list: {inex}\")\n",
    "        value = None \n",
    "    finally:\n",
    "        print(\"Task completed.\")\n",
    "    return value"
   ]
  },
  {
   "cell_type": "code",
   "execution_count": 16,
   "id": "750f1775",
   "metadata": {},
   "outputs": [
    {
     "name": "stdout",
     "output_type": "stream",
     "text": [
      "index not in list: list index out of range\n",
      "Task completed.\n"
     ]
    }
   ],
   "source": [
    "listy = [\"a\", \"b\", \"c\", \"d\", \"e\", \"f\", 6]\n",
    "check_element(listy, 7)"
   ]
  },
  {
   "cell_type": "markdown",
   "id": "9de1846d",
   "metadata": {},
   "source": [
    "### Assignment 8: Exception Handling in Network Operations\n",
    "\n",
    "Write a function that attempts to open a URL and read its contents. Use try, except, and finally blocks to handle network-related errors and print an appropriate message."
   ]
  },
  {
   "cell_type": "code",
   "execution_count": 23,
   "id": "e7f2f668",
   "metadata": {},
   "outputs": [
    {
     "name": "stdout",
     "output_type": "stream",
     "text": [
      "Execution complete.\n",
      "{\n",
      "  \"userId\": 1,\n",
      "  \"id\": 1,\n",
      "  \"title\": \"sunt aut facere repellat provident occaecati excepturi optio reprehenderit\",\n",
      "  \"body\": \"quia et suscipit\\nsuscipit recusandae consequuntur expedita et cum\\nreprehenderit molestiae ut ut quas totam\\nnostrum rerum est autem sunt rem eveniet architecto\"\n",
      "}\n",
      "Network error: HTTPSConnectionPool(host='nonexistent.url', port=443): Max retries exceeded with url: / (Caused by NewConnectionError('<urllib3.connection.HTTPSConnection object at 0x76208cdec2e0>: Failed to establish a new connection: [Errno -2] Name or service not known'))\n",
      "Execution complete.\n",
      "None\n"
     ]
    }
   ],
   "source": [
    "import requests\n",
    "\n",
    "def read_url(url):\n",
    "    try:\n",
    "        response = requests.get(url)\n",
    "        response.raise_for_status()\n",
    "        return response.text\n",
    "    except requests.RequestException as e:\n",
    "        print(f\"Network error: {e}\")\n",
    "        return None\n",
    "    finally:\n",
    "        print(\"Execution complete.\")\n",
    "        \n",
    "# Test\n",
    "print(read_url('https://jsonplaceholder.typicode.com/posts/1'))\n",
    "print(read_url('https://nonexistent.url'))"
   ]
  },
  {
   "cell_type": "markdown",
   "id": "6cd661fa",
   "metadata": {},
   "source": [
    "### Assignment 9: Exception Handling in JSON Parsing\n",
    "\n",
    "Write a function that attempts to parse a JSON string. Use try, except, and finally blocks to handle JSONDecodeError if the string is not a valid JSON and print an appropriate message."
   ]
  },
  {
   "cell_type": "code",
   "execution_count": null,
   "id": "4b8c46ce",
   "metadata": {},
   "outputs": [],
   "source": []
  },
  {
   "cell_type": "markdown",
   "id": "f2e6eba6",
   "metadata": {},
   "source": [
    "### Assignment 10: Custom Exception Handling\n",
    "\n",
    "Define a custom exception named `NegativeNumberError`. Write a function that raises this exception if a negative number is encountered in a list. Use try, except, and finally blocks to handle the custom exception and print an appropriate message."
   ]
  },
  {
   "cell_type": "code",
   "execution_count": null,
   "id": "5f072d33",
   "metadata": {},
   "outputs": [],
   "source": []
  },
  {
   "cell_type": "markdown",
   "id": "ef1537df",
   "metadata": {},
   "source": [
    "### Assignment 11: Exception Handling in Function Calls\n",
    "\n",
    "Write a function that calls another function which may raise an exception. Use try, except, and finally blocks to handle the exception and print an appropriate message."
   ]
  },
  {
   "cell_type": "code",
   "execution_count": null,
   "id": "a5a2818a",
   "metadata": {},
   "outputs": [],
   "source": []
  },
  {
   "cell_type": "markdown",
   "id": "e3db8f3d",
   "metadata": {},
   "source": [
    "### Assignment 12: Exception Handling in Class Methods\n",
    "\n",
    "Define a class with a method that performs a division operation. Use try, except, and finally blocks within the method to handle division by zero and print an appropriate message."
   ]
  },
  {
   "cell_type": "code",
   "execution_count": null,
   "id": "62cf44b3",
   "metadata": {},
   "outputs": [],
   "source": []
  },
  {
   "cell_type": "markdown",
   "id": "96f63aa4",
   "metadata": {},
   "source": [
    "### Assignment 13: Exception Handling in Data Conversion\n",
    "\n",
    "Write a function that takes a list of strings and converts them to integers. Use try, except, and finally blocks to handle ValueError if a string cannot be converted and print an appropriate message."
   ]
  },
  {
   "cell_type": "code",
   "execution_count": null,
   "id": "ffff078c",
   "metadata": {},
   "outputs": [],
   "source": []
  },
  {
   "cell_type": "markdown",
   "id": "fd569a57",
   "metadata": {},
   "source": [
    "### Assignment 14: Exception Handling in List Comprehensions\n",
    "\n",
    "Write a function that uses a list comprehension to convert a list of strings to integers. Use try, except, and finally blocks within the list comprehension to handle ValueError and print an appropriate message."
   ]
  },
  {
   "cell_type": "code",
   "execution_count": null,
   "id": "34c0a211",
   "metadata": {},
   "outputs": [],
   "source": []
  },
  {
   "cell_type": "markdown",
   "id": "b7466f13",
   "metadata": {},
   "source": [
    "### Assignment 15: Exception Handling in File Writing\n",
    "\n",
    "Write a function that attempts to write a list of strings to a file. Use try, except, and finally blocks to handle IOError and ensure the file is properly closed."
   ]
  },
  {
   "cell_type": "code",
   "execution_count": null,
   "id": "655025a4",
   "metadata": {},
   "outputs": [],
   "source": []
  }
 ],
 "metadata": {
  "kernelspec": {
   "display_name": "Python 3",
   "language": "python",
   "name": "python3"
  },
  "language_info": {
   "codemirror_mode": {
    "name": "ipython",
    "version": 3
   },
   "file_extension": ".py",
   "mimetype": "text/x-python",
   "name": "python",
   "nbconvert_exporter": "python",
   "pygments_lexer": "ipython3",
   "version": "3.10.12"
  }
 },
 "nbformat": 4,
 "nbformat_minor": 5
}
