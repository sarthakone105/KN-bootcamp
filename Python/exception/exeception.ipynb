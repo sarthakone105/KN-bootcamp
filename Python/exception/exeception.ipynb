{
 "cells": [
  {
   "cell_type": "code",
   "execution_count": 1,
   "metadata": {},
   "outputs": [
    {
     "ename": "NameError",
     "evalue": "name 'b' is not defined",
     "output_type": "error",
     "traceback": [
      "\u001b[0;31m---------------------------------------------------------------------------\u001b[0m",
      "\u001b[0;31mNameError\u001b[0m                                 Traceback (most recent call last)",
      "\u001b[0;32m/tmp/ipykernel_36973/905401003.py\u001b[0m in \u001b[0;36m<module>\u001b[0;34m\u001b[0m\n\u001b[0;32m----> 1\u001b[0;31m \u001b[0ma\u001b[0m\u001b[0;34m=\u001b[0m\u001b[0mb\u001b[0m\u001b[0;34m\u001b[0m\u001b[0;34m\u001b[0m\u001b[0m\n\u001b[0m",
      "\u001b[0;31mNameError\u001b[0m: name 'b' is not defined"
     ]
    }
   ],
   "source": [
    "a=b"
   ]
  },
  {
   "cell_type": "code",
   "execution_count": 2,
   "metadata": {},
   "outputs": [
    {
     "name": "stdout",
     "output_type": "stream",
     "text": [
      "The variable has not been assigned\n"
     ]
    }
   ],
   "source": [
    "try:\n",
    "    # write you code where exception can rise\n",
    "    a=b\n",
    "    # above line exception will be occured.\n",
    "except:\n",
    "    # this above except bloc will catch the exception\n",
    "    print(\"The variable has not been assigned\")"
   ]
  },
  {
   "cell_type": "code",
   "execution_count": 3,
   "metadata": {},
   "outputs": [
    {
     "name": "stdout",
     "output_type": "stream",
     "text": [
      "name 'b' is not defined\n"
     ]
    }
   ],
   "source": [
    "try:\n",
    "    a=b\n",
    "except NameError as e:\n",
    "    print(e)"
   ]
  },
  {
   "cell_type": "code",
   "execution_count": 4,
   "metadata": {},
   "outputs": [
    {
     "name": "stdout",
     "output_type": "stream",
     "text": [
      "name 'b' is not defined Main exception\n"
     ]
    }
   ],
   "source": [
    "try:\n",
    "    result = 1/b\n",
    "except ZeroDivisionError as ex:\n",
    "    print(ex, \":please enter denominator greater than 0\")\n",
    "except Exception as ex1:\n",
    "    print(ex1, \"Main exception\")\n",
    "    "
   ]
  },
  {
   "cell_type": "code",
   "execution_count": 5,
   "metadata": {},
   "outputs": [
    {
     "name": "stdout",
     "output_type": "stream",
     "text": [
      "Please enter num greator than zero.\n"
     ]
    }
   ],
   "source": [
    "try:\n",
    "    num=int(input(\"Enter a number: \"))\n",
    "    result = 10/num\n",
    "except ValueError as ex:\n",
    "    print(\"This is not a valid value.\")\n",
    "# except TypeError as ex1:\n",
    "#     print(\"Please enter an Integer, 0-9\")\n",
    "except ZeroDivisionError as ex2:\n",
    "    print(\"Please enter num greator than zero.\")"
   ]
  },
  {
   "cell_type": "code",
   "execution_count": 8,
   "metadata": {},
   "outputs": [
    {
     "name": "stdout",
     "output_type": "stream",
     "text": [
      "Result is 0.4\n"
     ]
    }
   ],
   "source": [
    "try:\n",
    "    num=int(input(\"Enter a number: \"))\n",
    "    result = 10/num\n",
    "except ValueError as ex:\n",
    "    print(\"This is not a valid value. Please enter an Integer\")\n",
    "except ZeroDivisionError as ex2:\n",
    "    print(\"Please enter num greator than zero.\")\n",
    "except Exception as exe:\n",
    "    print(exe)\n",
    "    \n",
    "else:\n",
    "    print(f\"Result is {result}\")"
   ]
  },
  {
   "cell_type": "code",
   "execution_count": 11,
   "metadata": {},
   "outputs": [
    {
     "name": "stdout",
     "output_type": "stream",
     "text": [
      "Result is 5.0\n",
      "Execution completed.\n"
     ]
    }
   ],
   "source": [
    "#  try, except, else, finally\n",
    "try:\n",
    "    num=int(input(\"Enter a number: \"))\n",
    "    result = 10/num\n",
    "except ValueError as ex:\n",
    "    print(\"This is not a valid value. Please enter an Integer\")\n",
    "except ZeroDivisionError as ex2:\n",
    "    print(\"Please enter num greator than zero.\")\n",
    "except Exception as exe:\n",
    "    print(exe)\n",
    "    \n",
    "else:\n",
    "    print(f\"Result is {result}\")\n",
    "    \n",
    "finally:\n",
    "    print(f\"Execution completed.\") # used mainly to close connection to a datbase or some server"
   ]
  },
  {
   "cell_type": "code",
   "execution_count": 16,
   "metadata": {},
   "outputs": [
    {
     "name": "stdout",
     "output_type": "stream",
     "text": [
      "name 'b' is not defined\n",
      "file closed\n"
     ]
    }
   ],
   "source": [
    "try:\n",
    "    file = open('example1.txt', 'r')\n",
    "    content = file.read()\n",
    "    a=b\n",
    "except Exception as exep:\n",
    "    print(exep)\n",
    "finally:\n",
    "    if 'file' in locals() or not file.closed():\n",
    "        file.close()\n",
    "        print(\"file closed\")\n",
    "        "
   ]
  }
 ],
 "metadata": {
  "kernelspec": {
   "display_name": "Python 3",
   "language": "python",
   "name": "python3"
  },
  "language_info": {
   "codemirror_mode": {
    "name": "ipython",
    "version": 3
   },
   "file_extension": ".py",
   "mimetype": "text/x-python",
   "name": "python",
   "nbconvert_exporter": "python",
   "pygments_lexer": "ipython3",
   "version": "3.10.12"
  }
 },
 "nbformat": 4,
 "nbformat_minor": 2
}
