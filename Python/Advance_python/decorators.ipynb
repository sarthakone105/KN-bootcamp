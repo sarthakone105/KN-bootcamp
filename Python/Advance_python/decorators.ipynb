{
 "cells": [
  {
   "cell_type": "markdown",
   "metadata": {},
   "source": [
    "### Decorators\n",
    "#### fuction copy\n",
    "#### closures"
   ]
  },
  {
   "cell_type": "markdown",
   "metadata": {},
   "source": [
    "Powerful and flexible feature in python that allows you to modify the behavior of fuction or class method, `functions on steroids`.   \n",
    "Commonly used to add functionality to fuction on class methods without modifying their actual code"
   ]
  },
  {
   "cell_type": "code",
   "execution_count": 8,
   "metadata": {},
   "outputs": [
    {
     "data": {
      "text/plain": [
       "'Welcom to advance stage.'"
      ]
     },
     "execution_count": 8,
     "metadata": {},
     "output_type": "execute_result"
    }
   ],
   "source": [
    "# function copy\n",
    "\n",
    "def welcome():\n",
    "    return \"Welcom to advance stage.\"\n",
    "\n",
    "welcome()"
   ]
  },
  {
   "cell_type": "markdown",
   "metadata": {},
   "source": [
    "you can copy one fuction to other fuction, like we copied welcome fuction to wel, even if we del welcome we can still use wel fuction."
   ]
  },
  {
   "cell_type": "code",
   "execution_count": 9,
   "metadata": {},
   "outputs": [
    {
     "name": "stdout",
     "output_type": "stream",
     "text": [
      "Welcom to advance stage.\n",
      "Welcom to advance stage.\n"
     ]
    }
   ],
   "source": [
    "wel = welcome\n",
    "print(wel())\n",
    "del welcome\n",
    "print(wel())"
   ]
  },
  {
   "cell_type": "code",
   "execution_count": 15,
   "metadata": {},
   "outputs": [
    {
     "name": "stdout",
     "output_type": "stream",
     "text": [
      "Welcome to advance code\n",
      "Hahahah learn properly\n"
     ]
    }
   ],
   "source": [
    "## closure\n",
    "\n",
    "def main_welcome():\n",
    "    msg = \"Welcome\"\n",
    "    def sub_welcome():\n",
    "        print(f\"{msg} to advance code\")\n",
    "\n",
    "        print(\"Hahahah learn properly\")\n",
    "    return sub_welcome()\n",
    "\n",
    "main_welcome()"
   ]
  },
  {
   "cell_type": "code",
   "execution_count": 16,
   "metadata": {},
   "outputs": [
    {
     "name": "stdout",
     "output_type": "stream",
     "text": [
      "Welcome to advance code\n",
      "bla blah\n",
      "Hahahah learn properly\n"
     ]
    }
   ],
   "source": [
    "## closure\n",
    "\n",
    "def main_welcome(funct):\n",
    "    msg = \"Welcome\"\n",
    "    def sub_welcome():\n",
    "        print(f\"{msg} to advance code\")\n",
    "        funct(\"bla blah\")\n",
    "        print(\"Hahahah learn properly\")\n",
    "    return sub_welcome()\n",
    "\n",
    "main_welcome(print)"
   ]
  },
  {
   "cell_type": "code",
   "execution_count": 17,
   "metadata": {},
   "outputs": [
    {
     "name": "stdout",
     "output_type": "stream",
     "text": [
      "Welcome to advance code\n",
      "5\n",
      "Hahahah learn properly\n"
     ]
    }
   ],
   "source": [
    "## closure\n",
    "\n",
    "def main_welcome(funct, lst):\n",
    "    msg = \"Welcome\"\n",
    "    def sub_welcome():\n",
    "        print(f\"{msg} to advance code\")\n",
    "        print(funct(lst))\n",
    "        print(\"Hahahah learn properly\")\n",
    "    return sub_welcome()\n",
    "\n",
    "main_welcome(len, \"kings\")"
   ]
  },
  {
   "cell_type": "markdown",
   "metadata": {},
   "source": [
    "#### Decorators"
   ]
  },
  {
   "cell_type": "code",
   "execution_count": 44,
   "metadata": {},
   "outputs": [],
   "source": [
    "def main_welcome(func):\n",
    "    \n",
    "    def sub_welcome():\n",
    "        print(\"Statement 1\")\n",
    "        func()\n",
    "        print(\"Statement 2\")\n",
    "        \n",
    "    return sub_welcome()"
   ]
  },
  {
   "cell_type": "code",
   "execution_count": 55,
   "metadata": {},
   "outputs": [
    {
     "name": "stdout",
     "output_type": "stream",
     "text": [
      "Statement 1\n",
      "this is an advance python course\n",
      "Statement 2\n"
     ]
    }
   ],
   "source": [
    "def course_intro():\n",
    "    print(\"this is an advance python course\")\n",
    "main_welcome(course_intro)"
   ]
  },
  {
   "cell_type": "code",
   "execution_count": 50,
   "metadata": {},
   "outputs": [
    {
     "name": "stdout",
     "output_type": "stream",
     "text": [
      "Statement 1\n",
      "this is an advance python course\n",
      "Statement 2\n"
     ]
    }
   ],
   "source": [
    "@main_welcome\n",
    "def course_intro():\n",
    "    print(\"this is an advance python course\")"
   ]
  },
  {
   "cell_type": "code",
   "execution_count": 51,
   "metadata": {},
   "outputs": [],
   "source": [
    "def foo(func):\n",
    "    return func()"
   ]
  },
  {
   "cell_type": "code",
   "execution_count": 54,
   "metadata": {},
   "outputs": [
    {
     "name": "stdout",
     "output_type": "stream",
     "text": [
      "boo\n"
     ]
    }
   ],
   "source": [
    "@foo #boo fuction will go inside the main foo method that is also decorater. \n",
    "def boo():\n",
    "    print(\"boo\")"
   ]
  },
  {
   "cell_type": "code",
   "execution_count": 58,
   "metadata": {},
   "outputs": [],
   "source": [
    "## Decorator example 2\n",
    "\n",
    "def my_decorator(fuct):\n",
    "    def wrapper():\n",
    "        print(\"statement 1\")\n",
    "        fuct()\n",
    "        print(\"statement 1\")\n",
    "    return wrapper"
   ]
  },
  {
   "cell_type": "code",
   "execution_count": 61,
   "metadata": {},
   "outputs": [],
   "source": [
    "@my_decorator # say_hello will be the parameter func for my decorater.  \n",
    "\n",
    "def say_hello():\n",
    "    print(\"Hello\")"
   ]
  },
  {
   "cell_type": "code",
   "execution_count": 62,
   "metadata": {},
   "outputs": [
    {
     "name": "stdout",
     "output_type": "stream",
     "text": [
      "statement 1\n",
      "Hello\n",
      "statement 1\n"
     ]
    }
   ],
   "source": [
    "say_hello()"
   ]
  },
  {
   "cell_type": "code",
   "execution_count": 67,
   "metadata": {},
   "outputs": [],
   "source": [
    "def repeat(n):\n",
    "    def decorator(func):\n",
    "        def wrapper(*args, **kwargs):\n",
    "            for _ in range(n):\n",
    "                func(*args, **kwargs)\n",
    "        return wrapper\n",
    "    return decorator\n",
    "    \n",
    "@repeat(3)\n",
    "def say_hello():\n",
    "    print(\"Hello\")"
   ]
  },
  {
   "cell_type": "code",
   "execution_count": 68,
   "metadata": {},
   "outputs": [
    {
     "name": "stdout",
     "output_type": "stream",
     "text": [
      "Hello\n",
      "Hello\n",
      "Hello\n"
     ]
    }
   ],
   "source": [
    "say_hello()"
   ]
  }
 ],
 "metadata": {
  "kernelspec": {
   "display_name": "Python 3",
   "language": "python",
   "name": "python3"
  },
  "language_info": {
   "codemirror_mode": {
    "name": "ipython",
    "version": 3
   },
   "file_extension": ".py",
   "mimetype": "text/x-python",
   "name": "python",
   "nbconvert_exporter": "python",
   "pygments_lexer": "ipython3",
   "version": "3.10.12"
  }
 },
 "nbformat": 4,
 "nbformat_minor": 2
}
