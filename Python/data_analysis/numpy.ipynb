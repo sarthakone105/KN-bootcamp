{
 "cells": [
  {
   "cell_type": "code",
   "execution_count": 1,
   "metadata": {},
   "outputs": [],
   "source": [
    "import numpy as np"
   ]
  },
  {
   "cell_type": "code",
   "execution_count": 3,
   "metadata": {},
   "outputs": [
    {
     "name": "stdout",
     "output_type": "stream",
     "text": [
      "Add: [11 22 33 44 55]\n"
     ]
    }
   ],
   "source": [
    "# vectorize \n",
    "arr1 = np.array([1,2,3,4,5])\n",
    "arr2 = np.array([10,20,30,40,50])\n",
    "\n",
    "print(\"Add:\",  arr1 + arr2)"
   ]
  },
  {
   "cell_type": "code",
   "execution_count": 5,
   "metadata": {},
   "outputs": [
    {
     "data": {
      "text/plain": [
       "[1, 2, 3, 4, 5, 10, 20, 30, 40, 50]"
      ]
     },
     "execution_count": 5,
     "metadata": {},
     "output_type": "execute_result"
    }
   ],
   "source": [
    "lst1= [1,2,3,4,5]\n",
    "lst2 = [10,20,30,40,50]\n",
    "lst1+lst2"
   ]
  },
  {
   "cell_type": "code",
   "execution_count": 8,
   "metadata": {},
   "outputs": [
    {
     "name": "stdout",
     "output_type": "stream",
     "text": [
      "Sq root [1.41421356 1.73205081 2.         2.23606798 2.44948974]\n",
      "Exponential [  7.3890561   20.08553692  54.59815003 148.4131591  403.42879349]\n",
      "Sine [ 0.90929743  0.14112001 -0.7568025  -0.95892427 -0.2794155 ]\n",
      "Natural log [0.69314718 1.09861229 1.38629436 1.60943791 1.79175947]\n"
     ]
    }
   ],
   "source": [
    "## Universal Fuction\n",
    "arr = np.array([2,3,4,5,6])\n",
    "# square root\n",
    "print(\"Sq root\",np.sqrt(arr))\n",
    "print(\"Exponential\",np.exp(arr))\n",
    "print(\"Sine\",np.sin(arr))\n",
    "print(\"Natural log\",np.log(arr))\n"
   ]
  },
  {
   "cell_type": "code",
   "execution_count": 13,
   "metadata": {},
   "outputs": [
    {
     "name": "stdout",
     "output_type": "stream",
     "text": [
      "[[ 1  2  3  4]\n",
      " [ 5  6  7  8]\n",
      " [ 9 10 11 12]]\n",
      "Shape of array : (3, 4)\n",
      "Row : 3\n",
      "Column : 4\n"
     ]
    }
   ],
   "source": [
    "## Array slicing and indexing\n",
    "arr = np.array([[1,2,3,4],[5,6,7,8],[9,10,11,12]])\n",
    "print(arr)\n",
    "print(\"Shape of array :\",arr.shape)\n",
    "print(\"Row :\",arr.shape[0])\n",
    "print(\"Column :\",arr.shape[1])\n",
    "\n"
   ]
  },
  {
   "cell_type": "code",
   "execution_count": 17,
   "metadata": {},
   "outputs": [
    {
     "name": "stdout",
     "output_type": "stream",
     "text": [
      "item on index arr[0][0]: 1\n"
     ]
    }
   ],
   "source": [
    "print(\"item on index arr[0][0]:\", arr[0][0])"
   ]
  },
  {
   "cell_type": "code",
   "execution_count": 22,
   "metadata": {},
   "outputs": [
    {
     "data": {
      "text/plain": [
       "array([[ 7,  8],\n",
       "       [11, 12]])"
      ]
     },
     "execution_count": 22,
     "metadata": {},
     "output_type": "execute_result"
    }
   ],
   "source": [
    "# find out 7,8,11,12\n",
    "print(arr[1:,2:])"
   ]
  },
  {
   "cell_type": "code",
   "execution_count": 23,
   "metadata": {},
   "outputs": [
    {
     "data": {
      "text/plain": [
       "array([[ 1,  2,  3,  4],\n",
       "       [ 5,  6,  7,  8],\n",
       "       [ 9, 10, 11, 12]])"
      ]
     },
     "execution_count": 23,
     "metadata": {},
     "output_type": "execute_result"
    }
   ],
   "source": [
    "arr"
   ]
  },
  {
   "cell_type": "code",
   "execution_count": 26,
   "metadata": {},
   "outputs": [
    {
     "data": {
      "text/plain": [
       "array([[ 6,  7],\n",
       "       [10, 11]])"
      ]
     },
     "execution_count": 26,
     "metadata": {},
     "output_type": "execute_result"
    }
   ],
   "source": [
    "# find out 6,7,10,11\n",
    "arr[1:,1:3]"
   ]
  },
  {
   "cell_type": "code",
   "execution_count": 32,
   "metadata": {},
   "outputs": [
    {
     "name": "stdout",
     "output_type": "stream",
     "text": [
      "Raw_data : [1 2 3 4 5]\n",
      "Normalised Data : [-1.41421356 -0.70710678  0.          0.70710678  1.41421356]\n"
     ]
    }
   ],
   "source": [
    "### Normalisation, it means data mean is 0 and stdv 1\n",
    "data = np.array([1,2,3,4,5])\n",
    "print(\"Raw_data :\", data)\n",
    "mean = data.mean()\n",
    "st_dev = data.std()\n",
    "\n",
    "normalised = (data-mean)/st_dev\n",
    "print(\"Normalised Data :\", normalised)"
   ]
  },
  {
   "cell_type": "code",
   "execution_count": 34,
   "metadata": {},
   "outputs": [
    {
     "name": "stdout",
     "output_type": "stream",
     "text": [
      "[ 1  2  3  4  5  6  7  8  9 10]\n",
      "[False False False False False  True  True  True  True  True]\n",
      "[ 6  7  8  9 10]\n"
     ]
    }
   ],
   "source": [
    "## Logical operations\n",
    "data = np.array([1,2,3,4,5,6,7,8,9,10])\n",
    "print(data)\n",
    "print(data>5)\n",
    "print(data[data>5])"
   ]
  },
  {
   "cell_type": "code",
   "execution_count": 35,
   "metadata": {},
   "outputs": [
    {
     "name": "stdout",
     "output_type": "stream",
     "text": [
      "[6 7 8 9]\n"
     ]
    }
   ],
   "source": [
    "# Multiple operations\n",
    "print(data[(data>5) & (data != 10)])"
   ]
  }
 ],
 "metadata": {
  "kernelspec": {
   "display_name": "Python 3",
   "language": "python",
   "name": "python3"
  },
  "language_info": {
   "codemirror_mode": {
    "name": "ipython",
    "version": 3
   },
   "file_extension": ".py",
   "mimetype": "text/x-python",
   "name": "python",
   "nbconvert_exporter": "python",
   "pygments_lexer": "ipython3",
   "version": "3.10.12"
  }
 },
 "nbformat": 4,
 "nbformat_minor": 2
}
