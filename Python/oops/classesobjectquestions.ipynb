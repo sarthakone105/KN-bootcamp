{
 "cells": [
  {
   "cell_type": "markdown",
   "metadata": {},
   "source": [
    "### Assignment 9: Static Methods\n",
    "\n",
    "Create a class named `MathOperations` with a static method to calculate the square root of a number. Call the static method without creating an object.\n",
    "\n",
    "### Assignment 10: Class with Properties\n",
    "\n",
    "Create a class named `Rectangle` with private attributes `length` and `width`. Use properties to get and set these attributes. Create an object of the class and test the properties.\n",
    "\n",
    "### Assignment 11: Abstract Base Class\n",
    "\n",
    "Create an abstract base class named `Shape` with an abstract method `area`. Create derived classes `Circle` and `Square` that implement the `area` method. Create objects of the derived classes and call the `area` method.\n",
    "\n",
    "### Assignment 12: Operator Overloading\n",
    "\n",
    "Create a class named `Vector` with attributes `x` and `y`. Overload the `+` operator to add two `Vector` objects. Create objects of the class and test the operator overloading.\n",
    "\n",
    "### Assignment 13: Class with Custom Exception\n",
    "\n",
    "Create a custom exception named `InsufficientBalanceError`. In the `BankAccount` class, raise this exception when a withdrawal amount is greater than the balance. Handle the exception and print an appropriate message.\n",
    "\n",
    "### Assignment 14: Class with Context Manager\n",
    "\n",
    "Create a class named `FileManager` that implements the context manager protocol to open and close a file. Use this class to read the contents of a file.\n",
    "\n",
    "### Assignment 15: Chaining Methods\n",
    "\n",
    "Create a class named `Calculator` with methods to add, subtract, multiply, and divide. Each method should return the object itself to allow method chaining. Create an object and chain multiple method calls."
   ]
  },
  {
   "cell_type": "markdown",
   "id": "b82478f9",
   "metadata": {},
   "source": [
    "### Assignment 1: Basic Class and Object Creation\n",
    "\n",
    "Create a class named `Car` with attributes `make`, `model`, and `year`. Create an object of the class and print its attributes."
   ]
  },
  {
   "cell_type": "code",
   "execution_count": 3,
   "id": "31b5376d",
   "metadata": {},
   "outputs": [
    {
     "data": {
      "text/plain": [
       "'2024'"
      ]
     },
     "execution_count": 3,
     "metadata": {},
     "output_type": "execute_result"
    }
   ],
   "source": [
    "class Car:\n",
    "    \n",
    "    def __init__(self, make, model, year):\n",
    "        self.make = make  # instance variable\n",
    "        self.model = model # instance variable\n",
    "        self.year = year # instance variable\n",
    "\n",
    "\n",
    "audi = Car('Audi', 'A6', '2024')\n",
    "audi.year"
   ]
  },
  {
   "cell_type": "markdown",
   "id": "beeb9208",
   "metadata": {},
   "source": [
    "### Assignment 2: Methods in Class\n",
    "\n",
    "Add a method named `start_engine` to the `Car` class that prints a message when the engine starts. Create an object of the class and call the method."
   ]
  },
  {
   "cell_type": "code",
   "execution_count": 4,
   "id": "810c18ff",
   "metadata": {},
   "outputs": [],
   "source": [
    "class Car:\n",
    "    \n",
    "    def __init__(self, make, model, year, type):\n",
    "        self.make = make\n",
    "        self.model = model\n",
    "        self.year = year\n",
    "        self.type = type\n",
    "        \n",
    "    def start_engine(self):\n",
    "        print(f'your {self.make} starts with a thunderous sound.')"
   ]
  },
  {
   "cell_type": "code",
   "execution_count": 5,
   "id": "406c9790",
   "metadata": {},
   "outputs": [],
   "source": [
    "my_car = Car('Mercedes', 'GTR', '2023', 'Manual')"
   ]
  },
  {
   "cell_type": "code",
   "execution_count": 6,
   "id": "f9ebb3ec",
   "metadata": {},
   "outputs": [
    {
     "name": "stdout",
     "output_type": "stream",
     "text": [
      "your Mercedes starts with a thunderous sound.\n"
     ]
    }
   ],
   "source": [
    "my_car.start_engine()"
   ]
  },
  {
   "cell_type": "markdown",
   "id": "a088a694",
   "metadata": {},
   "source": [
    "### Assignment 3: Class with Constructor\n",
    "\n",
    "Create a class named `Student` with attributes `name` and `age`. Use a constructor to initialize these attributes. Create an object of the class and print its attributes."
   ]
  },
  {
   "cell_type": "code",
   "execution_count": 7,
   "id": "b1c2f7d3",
   "metadata": {},
   "outputs": [
    {
     "name": "stdout",
     "output_type": "stream",
     "text": [
      "Sarthak 28\n"
     ]
    }
   ],
   "source": [
    "class Student:\n",
    "    \n",
    "    def __init__(self, name, age):\n",
    "        self.name = name\n",
    "        self.age = age\n",
    "        \n",
    "stud1 = Student('Sarthak', 28)\n",
    "\n",
    "print(stud1.name, stud1.age)"
   ]
  },
  {
   "cell_type": "markdown",
   "id": "a79eac67",
   "metadata": {},
   "source": [
    "### Assignment 4: Class with Private Attributes\n",
    "\n",
    "Create a class named `BankAccount` with private attributes `account_number` and `balance`. Add methods to deposit and withdraw money, and to check the balance. Create an object of the class and perform some operations."
   ]
  },
  {
   "cell_type": "code",
   "execution_count": 24,
   "id": "b71f2de0",
   "metadata": {},
   "outputs": [],
   "source": [
    "class BankAccount:\n",
    "    \n",
    "    def __init__(self, account_number, balance):\n",
    "        self.balance = balance\n",
    "        self.account_number = account_number\n",
    "        \n",
    "    def deposit_money(self, amount):\n",
    "        self.balance += amount\n",
    "        print(f\"The amount of {amount} has been deposited in your account. Current balance: {self.balance}\")\n",
    "        \n",
    "        \n",
    "    def check_balance(self):\n",
    "        print(f\"You have {self.balance} in your account.\")\n",
    "        \n",
    "    def withdraw_money(self, amount):\n",
    "        if amount == 0:\n",
    "            print(\"bhag bhosdike\")\n",
    "        elif amount > self.balance:\n",
    "            print(f\"Insufficient amount. Balance {self.balance}\")\n",
    "        else:\n",
    "            self.balance -= amount\n",
    "            print(f\"Successfully deducted {amount}, Youe current balance is {self.balance}\")"
   ]
  },
  {
   "cell_type": "code",
   "execution_count": 18,
   "id": "8079839d",
   "metadata": {},
   "outputs": [],
   "source": [
    "chetan = BankAccount(1234, 5000)"
   ]
  },
  {
   "cell_type": "code",
   "execution_count": 19,
   "id": "6c7c031a",
   "metadata": {},
   "outputs": [
    {
     "name": "stdout",
     "output_type": "stream",
     "text": [
      "You have 5000 in your account.\n"
     ]
    }
   ],
   "source": [
    "chetan.check_balance()"
   ]
  },
  {
   "cell_type": "code",
   "execution_count": 20,
   "id": "5f34cabf",
   "metadata": {},
   "outputs": [
    {
     "name": "stdout",
     "output_type": "stream",
     "text": [
      "The amount of 2000 has been deposited in your account.\n"
     ]
    }
   ],
   "source": [
    "chetan.deposit_money(2000)"
   ]
  },
  {
   "cell_type": "code",
   "execution_count": 21,
   "id": "2909732f",
   "metadata": {},
   "outputs": [
    {
     "name": "stdout",
     "output_type": "stream",
     "text": [
      "Insufficient amount. Balance 7000\n"
     ]
    }
   ],
   "source": [
    "chetan.withdraw_money(9000)"
   ]
  },
  {
   "cell_type": "code",
   "execution_count": 22,
   "id": "f574a4ee",
   "metadata": {},
   "outputs": [
    {
     "name": "stdout",
     "output_type": "stream",
     "text": [
      "Successfully deducted 7000, Youe current balance is 0\n"
     ]
    }
   ],
   "source": [
    "chetan.withdraw_money(7000)"
   ]
  },
  {
   "cell_type": "code",
   "execution_count": 25,
   "id": "0b17559f",
   "metadata": {},
   "outputs": [
    {
     "name": "stdout",
     "output_type": "stream",
     "text": [
      "Successfully deducted 0, Youe current balance is 0\n"
     ]
    }
   ],
   "source": [
    "chetan.withdraw_money(0)"
   ]
  },
  {
   "cell_type": "markdown",
   "id": "b0071726",
   "metadata": {},
   "source": [
    "### Assignment 5: Class Inheritance\n",
    "\n",
    "Create a base class named `Person` with attributes `name` and `age`. Create a derived class named `Employee` that inherits from `Person` and adds an attribute `employee_id`. Create an object of the derived class and print its attributes."
   ]
  },
  {
   "cell_type": "code",
   "execution_count": 32,
   "id": "91ac8799",
   "metadata": {},
   "outputs": [],
   "source": [
    "class Person:\n",
    "    def __init__(self, name, age):\n",
    "        self.name = name\n",
    "        self.age = age\n",
    "        \n",
    "class Employee(Person):\n",
    "    \n",
    "    def __init__(self, name, age, employee_id):\n",
    "        super().__init__(name, age)\n",
    "        self.employee_id = employee_id\n"
   ]
  },
  {
   "cell_type": "code",
   "execution_count": 34,
   "id": "003c7b8c",
   "metadata": {},
   "outputs": [
    {
     "name": "stdout",
     "output_type": "stream",
     "text": [
      "Sarthak 28 1\n"
     ]
    }
   ],
   "source": [
    "newbie = Employee('Sarthak', 28, 1)\n",
    "print(newbie.name, newbie.age, newbie.employee_id)"
   ]
  },
  {
   "cell_type": "markdown",
   "id": "ade49eae",
   "metadata": {},
   "source": [
    "### Assignment 6: Method Overriding\n",
    "\n",
    "In the `Employee` class, override the `__str__` method to return a string representation of the object. Create an object of the class and print it."
   ]
  },
  {
   "cell_type": "code",
   "execution_count": 35,
   "id": "8d6e221c",
   "metadata": {},
   "outputs": [],
   "source": [
    "class Person:\n",
    "    def __init__(self, name, age):\n",
    "        self.name = name\n",
    "        self.age = age\n",
    "        \n",
    "class Employee(Person):\n",
    "    \n",
    "    def __init__(self, name, age, employee_id):\n",
    "        super().__init__(name, age)\n",
    "        self.employee_id = employee_id\n",
    "\n",
    "    def __str__(self) -> str:\n",
    "        return super().__str__()\n",
    "    "
   ]
  },
  {
   "cell_type": "markdown",
   "id": "169d30a8",
   "metadata": {},
   "source": [
    "### Assignment 7: Class Composition\n",
    "\n",
    "Create a class named `Address` with attributes `street`, `city`, and `zipcode`. Create a class named `Person` that has an `Address` object as an attribute. Create an object of the `Person` class and print its address."
   ]
  },
  {
   "cell_type": "code",
   "execution_count": 1,
   "id": "5a89d8ec",
   "metadata": {},
   "outputs": [],
   "source": [
    "class Address:\n",
    "    \n",
    "    def __int__(self, street, city, zipcode):\n",
    "        self.street = street\n",
    "        self.city = city\n",
    "        self.zipcode = zipcode\n",
    "\n",
    "class Person(Address):\n",
    "    \n",
    "    def __int__(self, street, city, zipcode, name):\n",
    "        super().__int__(street, city, zipcode)\n",
    "        self.name = name        "
   ]
  },
  {
   "cell_type": "code",
   "execution_count": 2,
   "id": "420c678d",
   "metadata": {},
   "outputs": [
    {
     "name": "stdout",
     "output_type": "stream",
     "text": [
      "John Doe lives at 123 Main St, Springfield, 12345\n"
     ]
    }
   ],
   "source": [
    "class Address:\n",
    "    def __init__(self, street, city, zipcode):\n",
    "        self.street = street\n",
    "        self.city = city\n",
    "        self.zipcode = zipcode\n",
    "\n",
    "    def __str__(self):\n",
    "        return f\"{self.street}, {self.city}, {self.zipcode}\"\n",
    "\n",
    "class Person:\n",
    "    def __init__(self, name, address):\n",
    "        self.name = name\n",
    "        self.address = address\n",
    "\n",
    "    def __str__(self):\n",
    "        return f\"{self.name} lives at {self.address}\"\n",
    "\n",
    "# Create an Address object\n",
    "my_address = Address(\"123 Main St\", \"Springfield\", \"12345\")\n",
    "\n",
    "# Create a Person object with the Address object\n",
    "person = Person(\"John Doe\", my_address)\n",
    "\n",
    "# Print the Person's address\n",
    "print(person)"
   ]
  },
  {
   "cell_type": "markdown",
   "id": "daac356d",
   "metadata": {},
   "source": [
    "### Assignment 8: Class with Class Variables\n",
    "\n",
    "Create a class named `Counter` with a class variable `count`. Each time an object is created, increment the count. Add a method to get the current count. Create multiple objects and print the count."
   ]
  },
  {
   "cell_type": "code",
   "execution_count": null,
   "id": "d08f4eec",
   "metadata": {},
   "outputs": [],
   "source": [
    "class Counter"
   ]
  }
 ],
 "metadata": {
  "kernelspec": {
   "display_name": "Python 3",
   "language": "python",
   "name": "python3"
  },
  "language_info": {
   "codemirror_mode": {
    "name": "ipython",
    "version": 3
   },
   "file_extension": ".py",
   "mimetype": "text/x-python",
   "name": "python",
   "nbconvert_exporter": "python",
   "pygments_lexer": "ipython3",
   "version": "3.12.5"
  }
 },
 "nbformat": 4,
 "nbformat_minor": 5
}
