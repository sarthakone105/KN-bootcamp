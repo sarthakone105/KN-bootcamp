{
 "cells": [
  {
   "cell_type": "code",
   "execution_count": 1,
   "metadata": {},
   "outputs": [],
   "source": [
    "import math"
   ]
  },
  {
   "cell_type": "code",
   "execution_count": 38,
   "metadata": {},
   "outputs": [],
   "source": [
    "class Dataset:\n",
    "    \n",
    "    def __init__(self, data) -> list:\n",
    "        self.data = data\n",
    "        \n",
    "    def __str__(self) -> str:\n",
    "        return f\"Underlying data: {self.data}\"\n",
    "    \n",
    "    def push_item(self, new_item) -> int:\n",
    "        self.data.append(new_item)\n",
    "        return self.data\n",
    "    \n",
    "    def delete_data(self, to_delete_index) -> int:\n",
    "        self.data.pop(to_delete_index)\n",
    "        return self.data\n",
    "    \n",
    "    def Mean(self) -> float:\n",
    "        count = len(self.data)\n",
    "        summation = sum(self.data)\n",
    "        return summation / count if count != 0 else 0\n",
    "    \n",
    "    def variance(self) -> float:\n",
    "        mean = self.Mean()  # Correctly call the Mean() method\n",
    "        summation = sum((element - mean) ** 2 for element in self.data)\n",
    "        count = len(self.data)\n",
    "        return summation / count if count != 0 else 0\n",
    "    \n",
    "    def standard_deviation(self):\n",
    "        if len(self.data) != 0:\n",
    "            variance = self.variance()\n",
    "            return math.sqrt(variance)\n",
    "        else:\n",
    "            return \"List is empty.\""
   ]
  },
  {
   "cell_type": "code",
   "execution_count": 39,
   "metadata": {},
   "outputs": [
    {
     "data": {
      "text/plain": [
       "[1, 2, 2, 2, 2, 3, 3, 4, 5, 5, 5, 6, 6, 6, 6, 7, 8, 8, 9, 27, 45]"
      ]
     },
     "execution_count": 39,
     "metadata": {},
     "output_type": "execute_result"
    }
   ],
   "source": [
    "variable = Dataset([1,2,2,2,2,3,3,4,5,5,5,6,6,6,6,7,8,8,9,27])\n",
    "variable.push_item(45)"
   ]
  },
  {
   "cell_type": "code",
   "execution_count": 40,
   "metadata": {},
   "outputs": [
    {
     "data": {
      "text/plain": [
       "96.77551020408163"
      ]
     },
     "execution_count": 40,
     "metadata": {},
     "output_type": "execute_result"
    }
   ],
   "source": [
    "variable.variance()"
   ]
  },
  {
   "cell_type": "code",
   "execution_count": 41,
   "metadata": {},
   "outputs": [
    {
     "data": {
      "text/plain": [
       "9.837454457535324"
      ]
     },
     "execution_count": 41,
     "metadata": {},
     "output_type": "execute_result"
    }
   ],
   "source": [
    "variable.standard_deviation()"
   ]
  }
 ],
 "metadata": {
  "kernelspec": {
   "display_name": "Python 3",
   "language": "python",
   "name": "python3"
  },
  "language_info": {
   "codemirror_mode": {
    "name": "ipython",
    "version": 3
   },
   "file_extension": ".py",
   "mimetype": "text/x-python",
   "name": "python",
   "nbconvert_exporter": "python",
   "pygments_lexer": "ipython3",
   "version": "3.10.12"
  }
 },
 "nbformat": 4,
 "nbformat_minor": 2
}
